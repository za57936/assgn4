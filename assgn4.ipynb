{
 "cells": [
  {
   "cell_type": "code",
   "execution_count": 6,
   "metadata": {},
   "outputs": [
    {
     "name": "stdout",
     "output_type": "stream",
     "text": [
      "Enter the length of side 1 :5\n",
      "Enter the length of side 2 :12\n",
      "Enter the length of side 3 :13\n",
      "Area of triangle is : 30.0\n"
     ]
    }
   ],
   "source": [
    "\n",
    "class triangle:      #class to calculate area of triangle\n",
    "    \n",
    "    \n",
    "    def __init__(self,a,b,c):     #defintion of constructor\n",
    "        self.a = a\n",
    "        self.b = b\n",
    "        self.c = c\n",
    "    \n",
    "    #function to calculate area\n",
    "    def area(self):\n",
    "        s = (self.a+self.b+self.c)/2\n",
    "        ar = (s*(s-self.a)*(s-self.b)*(s-self.c))**0.5\n",
    "        return ar\n",
    "\n",
    "\n",
    "a = float(input(\"Enter the length of side 1 :\"))    #taking triangle sides as input\n",
    "b = float(input(\"Enter the length of side 2 :\"))\n",
    "c = float(input(\"Enter the length of side 3 :\"))\n",
    "\n",
    "#creating instance of Triangle class \n",
    "tri = triangle(a,b,c)\n",
    "\n",
    "#printing the area of triangle\n",
    "print(\"Area of triangle is : {}\".format(tri.area()))"
   ]
  },
  {
   "cell_type": "code",
   "execution_count": 4,
   "metadata": {},
   "outputs": [
    {
     "name": "stdout",
     "output_type": "stream",
     "text": [
      "Enter the value of n : 5\n",
      "Words that are longer than 5\n",
      "['sadlkj', 'sfaljhaslkfh', 'zxdasdx']\n"
     ]
    }
   ],
   "source": [
    "def filter_long_words(lst,n):       #function to find words that are longer than n\n",
    "\n",
    "    newlst = []\n",
    "    for i in range(0,len(lst)):\n",
    "        if len(lst[i])>n:\n",
    "            newlst.append(lst[i])\n",
    "    return newlst\n",
    "\n",
    "\n",
    "words = ['adskl','sadlkj','sfaljhaslkfh','zxdasdx','af','bds','c']        #list \n",
    "\n",
    "#taking input n\n",
    "n = int(input(\"Enter the value of n : \"))        \n",
    "\n",
    "#calling function\n",
    "new_words =  filter_long_words(words,n)\n",
    "\n",
    "print(\"Words that are longer than {}\".format(n))\n",
    "\n",
    "#printing\n",
    "print(new_words)"
   ]
  },
  {
   "cell_type": "code",
   "execution_count": 10,
   "metadata": {},
   "outputs": [
    {
     "name": "stdout",
     "output_type": "stream",
     "text": [
      "[1, 3, 5]\n"
     ]
    }
   ],
   "source": [
    "#function to calculate length of words\n",
    "def cal_length(lst):\n",
    "    newlst = []\n",
    "    for i in range(0,len(lst)):\n",
    "        newlst.append(len(lst[i]))\n",
    "    return newlst\n",
    "\n",
    "\n",
    "word_list = ['a','cde','jerty']     #initialising list \n",
    "\n",
    "#calling the function cal_length to get list of length of words\n",
    "len_list = cal_length(word_list)\n",
    "\n",
    "#printing the list of lengths \n",
    "print(len_list)"
   ]
  },
  {
   "cell_type": "code",
   "execution_count": 15,
   "metadata": {},
   "outputs": [
    {
     "name": "stdout",
     "output_type": "stream",
     "text": [
      "True\n",
      "False\n"
     ]
    }
   ],
   "source": [
    "def vowel(c):     #funtion to check if a letter is vowel\n",
    "    if c not in {'a', 'e', 'i', 'o', 'u','A','E','I','O','U'}:\n",
    "        return False\n",
    "    else: \n",
    "        return True\n",
    "\n",
    "#calling the function\n",
    "t1 = vowel('a')\n",
    "print(t1)\n",
    "\n",
    "#calling the function\n",
    "t2 = vowel('z')\n",
    "print(t2)"
   ]
  },
  {
   "cell_type": "code",
   "execution_count": null,
   "metadata": {},
   "outputs": [],
   "source": []
  }
 ],
 "metadata": {
  "kernelspec": {
   "display_name": "Python 3",
   "language": "python",
   "name": "python3"
  },
  "language_info": {
   "codemirror_mode": {
    "name": "ipython",
    "version": 3
   },
   "file_extension": ".py",
   "mimetype": "text/x-python",
   "name": "python",
   "nbconvert_exporter": "python",
   "pygments_lexer": "ipython3",
   "version": "3.7.0"
  }
 },
 "nbformat": 4,
 "nbformat_minor": 2
}
